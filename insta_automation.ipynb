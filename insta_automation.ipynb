{
  "nbformat": 4,
  "nbformat_minor": 0,
  "metadata": {
    "colab": {
      "provenance": [],
      "authorship_tag": "ABX9TyOszyvKG3Q8hw19RrkFQetJ"
    },
    "kernelspec": {
      "name": "python3",
      "display_name": "Python 3"
    },
    "language_info": {
      "name": "python"
    }
  },
  "cells": [
    {
      "cell_type": "markdown",
      "source": [
        "This is Instagram automation program. we can automatically send message to followers, you can unfollow every followers by using simple code"
      ],
      "metadata": {
        "id": "h8LYRp5AKocS"
      }
    },
    {
      "cell_type": "code",
      "execution_count": 2,
      "metadata": {
        "colab": {
          "base_uri": "https://localhost:8080/"
        },
        "id": "m-uJOPiK-Owy",
        "outputId": "89fd1b89-ab01-4acd-9813-a1cdcb6b8f82"
      },
      "outputs": [
        {
          "output_type": "stream",
          "name": "stdout",
          "text": [
            "Requirement already satisfied: instabot in /usr/local/lib/python3.10/dist-packages (0.117.0)\n",
            "Requirement already satisfied: certifi>=2019.11.28 in /usr/local/lib/python3.10/dist-packages (from instabot) (2023.7.22)\n",
            "Requirement already satisfied: chardet>=3.0.4 in /usr/local/lib/python3.10/dist-packages (from instabot) (5.2.0)\n",
            "Requirement already satisfied: future>=0.18.2 in /usr/local/lib/python3.10/dist-packages (from instabot) (0.18.3)\n",
            "Requirement already satisfied: huepy>=1.2.1 in /usr/local/lib/python3.10/dist-packages (from instabot) (1.2.1)\n",
            "Requirement already satisfied: idna>=2.8 in /usr/local/lib/python3.10/dist-packages (from instabot) (3.4)\n",
            "Requirement already satisfied: pysocks>=1.7.1 in /usr/local/lib/python3.10/dist-packages (from instabot) (1.7.1)\n",
            "Requirement already satisfied: pytz>=2019.3 in /usr/local/lib/python3.10/dist-packages (from instabot) (2023.3.post1)\n",
            "Requirement already satisfied: requests>=2.22.0 in /usr/local/lib/python3.10/dist-packages (from instabot) (2.31.0)\n",
            "Requirement already satisfied: requests-toolbelt>=0.9.1 in /usr/local/lib/python3.10/dist-packages (from instabot) (1.0.0)\n",
            "Requirement already satisfied: responses>=0.10.9 in /usr/local/lib/python3.10/dist-packages (from instabot) (0.23.3)\n",
            "Requirement already satisfied: schedule>=0.6.0 in /usr/local/lib/python3.10/dist-packages (from instabot) (1.2.1)\n",
            "Requirement already satisfied: six>=1.14.0 in /usr/local/lib/python3.10/dist-packages (from instabot) (1.16.0)\n",
            "Requirement already satisfied: tqdm>=4.41.1 in /usr/local/lib/python3.10/dist-packages (from instabot) (4.66.1)\n",
            "Requirement already satisfied: urllib3>=1.25.7 in /usr/local/lib/python3.10/dist-packages (from instabot) (2.0.6)\n",
            "Requirement already satisfied: mock>=3.0.5 in /usr/local/lib/python3.10/dist-packages (from instabot) (5.1.0)\n",
            "Requirement already satisfied: moviepy>=1.0.1 in /usr/local/lib/python3.10/dist-packages (from instabot) (1.0.3)\n",
            "Requirement already satisfied: Pillow>=6.2.2 in /usr/local/lib/python3.10/dist-packages (from instabot) (9.4.0)\n",
            "Requirement already satisfied: pytest>=4.6.9 in /usr/local/lib/python3.10/dist-packages (from instabot) (7.4.2)\n",
            "Requirement already satisfied: decorator<5.0,>=4.0.2 in /usr/local/lib/python3.10/dist-packages (from moviepy>=1.0.1->instabot) (4.4.2)\n",
            "Requirement already satisfied: proglog<=1.0.0 in /usr/local/lib/python3.10/dist-packages (from moviepy>=1.0.1->instabot) (0.1.10)\n",
            "Requirement already satisfied: numpy>=1.17.3 in /usr/local/lib/python3.10/dist-packages (from moviepy>=1.0.1->instabot) (1.23.5)\n",
            "Requirement already satisfied: imageio<3.0,>=2.5 in /usr/local/lib/python3.10/dist-packages (from moviepy>=1.0.1->instabot) (2.31.5)\n",
            "Requirement already satisfied: imageio-ffmpeg>=0.2.0 in /usr/local/lib/python3.10/dist-packages (from moviepy>=1.0.1->instabot) (0.4.9)\n",
            "Requirement already satisfied: iniconfig in /usr/local/lib/python3.10/dist-packages (from pytest>=4.6.9->instabot) (2.0.0)\n",
            "Requirement already satisfied: packaging in /usr/local/lib/python3.10/dist-packages (from pytest>=4.6.9->instabot) (23.2)\n",
            "Requirement already satisfied: pluggy<2.0,>=0.12 in /usr/local/lib/python3.10/dist-packages (from pytest>=4.6.9->instabot) (1.3.0)\n",
            "Requirement already satisfied: exceptiongroup>=1.0.0rc8 in /usr/local/lib/python3.10/dist-packages (from pytest>=4.6.9->instabot) (1.1.3)\n",
            "Requirement already satisfied: tomli>=1.0.0 in /usr/local/lib/python3.10/dist-packages (from pytest>=4.6.9->instabot) (2.0.1)\n",
            "Requirement already satisfied: charset-normalizer<4,>=2 in /usr/local/lib/python3.10/dist-packages (from requests>=2.22.0->instabot) (3.3.0)\n",
            "Requirement already satisfied: pyyaml in /usr/local/lib/python3.10/dist-packages (from responses>=0.10.9->instabot) (6.0.1)\n",
            "Requirement already satisfied: types-PyYAML in /usr/local/lib/python3.10/dist-packages (from responses>=0.10.9->instabot) (6.0.12.12)\n",
            "Requirement already satisfied: setuptools in /usr/local/lib/python3.10/dist-packages (from imageio-ffmpeg>=0.2.0->moviepy>=1.0.1->instabot) (67.7.2)\n"
          ]
        }
      ],
      "source": [
        "pip install instabot"
      ]
    },
    {
      "cell_type": "markdown",
      "source": [
        "installing instagram bot package"
      ],
      "metadata": {
        "id": "lo1CA-hXL4YS"
      }
    },
    {
      "cell_type": "code",
      "source": [
        "from instabot import Bot"
      ],
      "metadata": {
        "id": "28Xg_mIb-mkZ"
      },
      "execution_count": 3,
      "outputs": []
    },
    {
      "cell_type": "code",
      "source": [
        "bot = Bot()"
      ],
      "metadata": {
        "colab": {
          "base_uri": "https://localhost:8080/"
        },
        "id": "ttZhjUjo_KqU",
        "outputId": "ee7c9a95-e67d-4954-ce42-349fed291a97"
      },
      "execution_count": 4,
      "outputs": [
        {
          "output_type": "stream",
          "name": "stderr",
          "text": [
            "2023-10-16 19:37:20,373 - INFO - Instabot version: 0.117.0 Started\n",
            "INFO:instabot version: 0.117.0:Instabot version: 0.117.0 Started\n",
            "DEBUG:instabot version: 0.117.0:Bot imported from /usr/local/lib/python3.10/dist-packages/instabot/bot/bot.py\n"
          ]
        }
      ]
    },
    {
      "cell_type": "markdown",
      "source": [
        "Please entering instagram login crenditionals"
      ],
      "metadata": {
        "id": "jFk7YkDyMECf"
      }
    },
    {
      "cell_type": "code",
      "source": [
        "bot.login(username='yourusername',password='************')"
      ],
      "metadata": {
        "id": "toYyyR0l_lAC"
      },
      "execution_count": null,
      "outputs": []
    },
    {
      "cell_type": "markdown",
      "source": [
        "uploding images in instragram account"
      ],
      "metadata": {
        "id": "CIm7hqAgMR_i"
      }
    },
    {
      "cell_type": "code",
      "source": [
        "bot.upload_photo('god.jpg',caption ='god photo')"
      ],
      "metadata": {
        "id": "FhGZiqT_AD6T"
      },
      "execution_count": null,
      "outputs": []
    },
    {
      "cell_type": "markdown",
      "source": [
        "following insta account members"
      ],
      "metadata": {
        "id": "AMKxF1luMaln"
      }
    },
    {
      "cell_type": "code",
      "source": [
        "bot.follow('urturlymahesh')"
      ],
      "metadata": {
        "id": "wyl_8ilLGOKs"
      },
      "execution_count": null,
      "outputs": []
    },
    {
      "cell_type": "markdown",
      "source": [
        "sending message to follower"
      ],
      "metadata": {
        "id": "vIqCcSOhMni1"
      }
    },
    {
      "cell_type": "code",
      "source": [
        "bot.send_message('Hello',['urturlymahesh','aliaabhatt'])"
      ],
      "metadata": {
        "id": "q1ysLh_IHY9G"
      },
      "execution_count": null,
      "outputs": []
    },
    {
      "cell_type": "markdown",
      "source": [
        "list of number of followers in useraccount"
      ],
      "metadata": {
        "id": "DYPOxfWFMw-4"
      }
    },
    {
      "cell_type": "code",
      "source": [
        "followers = bot.get_user_followers('username')\n",
        "for follower in followers:\n",
        "  print(bot.get_user_info(follower))"
      ],
      "metadata": {
        "id": "KbHNGQsWIpPM"
      },
      "execution_count": null,
      "outputs": []
    },
    {
      "cell_type": "markdown",
      "source": [
        "unfollow everyone"
      ],
      "metadata": {
        "id": "unXfRZSCNgWf"
      }
    },
    {
      "cell_type": "code",
      "source": [
        "bot.unfollow_everyone()"
      ],
      "metadata": {
        "id": "ohDLvAD3J-Sm"
      },
      "execution_count": null,
      "outputs": []
    }
  ]
}